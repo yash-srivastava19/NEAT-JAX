{
  "nbformat": 4,
  "nbformat_minor": 0,
  "metadata": {
    "colab": {
      "provenance": []
    },
    "kernelspec": {
      "name": "python3",
      "display_name": "Python 3"
    },
    "language_info": {
      "name": "python"
    }
  },
  "cells": [
    {
      "cell_type": "markdown",
      "source": [
        "## What does porting to JAX requires ?\n",
        "\n",
        "- There are certain functionalities that need to be kept in mind. Replace the `numpy` imports with `jax.numpy`.\n",
        "\n",
        "- JAX does fast vectorized operations. If there exists ways, rewrite loops using `jnp.map` and `jnp.vectorize`\n",
        "\n",
        "- Decorate core funtions with `@jax.jit` to enable Just-In-Time compilation and optimize."
      ],
      "metadata": {
        "id": "1ht3VOHLwE9c"
      }
    },
    {
      "cell_type": "code",
      "source": [
        "! pip install evojax"
      ],
      "metadata": {
        "id": "UmTxDVBb272C"
      },
      "execution_count": null,
      "outputs": []
    },
    {
      "cell_type": "code",
      "source": [
        "import os\n",
        "import shutil\n",
        "import jax\n",
        "\n",
        "from dataclasses import dataclass\n",
        "from evojax.task.slimevolley import SlimeVolley\n",
        "from evojax.policy.mlp import MLPPolicy\n",
        "from evojax import Trainer\n",
        "from evojax import util\n",
        "from hyp import hyp\n",
        "\n",
        "from neat import NEATJax, loadHyp\n",
        "\n",
        "os.environ['PYTHONFAULTHANDLER'] = '1'\n",
        "os.environ['PYTHONTRACEMALLOC'] = '1'"
      ],
      "metadata": {
        "id": "C324VdbQ298s"
      },
      "execution_count": 1,
      "outputs": []
    },
    {
      "cell_type": "code",
      "source": [
        "@dataclass\n",
        "class TrainingParams:\n",
        "    NUM_TESTS = 100\n",
        "    N_REPEATS = 16\n",
        "    MAX_ITER = 50\n",
        "    TEST_INTERVAL = 50\n",
        "    LOG_INTERVAL = 10\n",
        "    MAX_STEPS = 3000\n",
        "    LOG_DIR = \"./log/slimevolley\"\n",
        "\n",
        "tp = TrainingParams()\n",
        "\n",
        "@dataclass\n",
        "class PolicyParams:\n",
        "    HIDDEN_SIZE = 20\n",
        "    OUT_ACT_FN = 'tanh'\n",
        "\n",
        "pp = PolicyParams()"
      ],
      "metadata": {
        "id": "0tB3FbC7aOFT"
      },
      "execution_count": 2,
      "outputs": []
    },
    {
      "cell_type": "code",
      "source": [
        "if not os.path.exists(tp.LOG_DIR):\n",
        "    os.makedirs(tp.LOG_DIR, exist_ok=True)\n",
        "\n",
        "logger = util.create_logger(\n",
        "    name='SlimeVolley', log_dir=tp.LOG_DIR, debug=True)\n",
        "\n",
        "logger.info('EvoJAX SlimeVolley')\n",
        "\n",
        "logger.info('=' * 30)"
      ],
      "metadata": {
        "colab": {
          "base_uri": "https://localhost:8080/"
        },
        "id": "Xt5PjVZ2ekql",
        "outputId": "86ce8f5d-0177-4356-d03e-5ed94ddc128c"
      },
      "execution_count": 3,
      "outputs": [
        {
          "output_type": "stream",
          "name": "stderr",
          "text": [
            "INFO:SlimeVolley:EvoJAX SlimeVolley\n",
            "INFO:SlimeVolley:==============================\n"
          ]
        }
      ]
    },
    {
      "cell_type": "code",
      "source": [
        "train_task = SlimeVolley(test=False, max_steps=tp.MAX_STEPS)\n",
        "test_task = SlimeVolley(test=True, max_steps=tp.MAX_STEPS)\n",
        "\n",
        "print(\"Input Shape: \" ,train_task.obs_shape[0])\n",
        "print(\"Output Shape: \", train_task.act_shape[0])\n",
        "\n",
        "policy = MLPPolicy(\n",
        "    input_dim=train_task.obs_shape[0],\n",
        "    hidden_dims=[pp.HIDDEN_SIZE, ],\n",
        "    output_dim=train_task.act_shape[0],\n",
        "    output_act_fn='tanh',\n",
        ")"
      ],
      "metadata": {
        "colab": {
          "base_uri": "https://localhost:8080/"
        },
        "id": "XEgS-l_Se9mm",
        "outputId": "8e2b6e72-acd4-42c1-cf63-a53149b2b3c9"
      },
      "execution_count": 4,
      "outputs": [
        {
          "output_type": "stream",
          "name": "stdout",
          "text": [
            "Input Shape:  12\n",
            "Output Shape:  3\n"
          ]
        },
        {
          "output_type": "stream",
          "name": "stderr",
          "text": [
            "INFO:MLPPolicy:MLPPolicy.num_params = 323\n"
          ]
        }
      ]
    },
    {
      "cell_type": "markdown",
      "source": [
        "## We'll have our custom solver here. We'll see how that goes.\n",
        "Only the CMA part needs to be changed a little bit. Otherwise, there is no change."
      ],
      "metadata": {
        "id": "ywQMN08KWL5g"
      }
    },
    {
      "cell_type": "code",
      "source": [
        "solver = NEATJax(hyp)"
      ],
      "metadata": {
        "colab": {
          "base_uri": "https://localhost:8080/"
        },
        "id": "3U4iA_F3WLc8",
        "outputId": "77011600-cbac-4762-a501-3a5897cc607a"
      },
      "execution_count": 5,
      "outputs": [
        {
          "output_type": "stream",
          "name": "stdout",
          "text": [
            "{'task': 'slimevolley', 'maxGen': 8, 'pop_size': 32, 'alg_nReps': 2, 'alg_speciate': 'neat', 'alg_probMoo': 0.0, 'alg_act': 5, 'prob_addConn': 0.05, 'prob_addNode': 0.03, 'prob_crossover': 0.8, 'prob_enable': 0.01, 'prob_mutAct': 0.0, 'prob_mutConn': 0.8, 'prob_initEnable': 1.0, 'select_cullRatio': 0.1, 'select_eliteRatio': 0.1, 'select_rankWeight': 'exp', 'select_tournSize': 2, 'spec_compatMod': 0.25, 'spec_dropOffAge': 64, 'spec_target': 4, 'spec_thresh': 2.0, 'spec_threshMin': 2.0, 'spec_geneCoef': 1, 'spec_weightCoef': 0.5, 'save_mod': 8, 'bestReps': 20}\n"
          ]
        }
      ]
    },
    {
      "cell_type": "code",
      "source": [
        "SEED = 69 #Why not ?\n",
        "\n",
        "hyp = loadHyp()"
      ],
      "metadata": {
        "id": "m1c-BsI3uQao"
      },
      "execution_count": 6,
      "outputs": []
    },
    {
      "cell_type": "code",
      "source": [
        "\n",
        "trainer = Trainer(\n",
        "    policy=policy,\n",
        "\n",
        "    solver=solver,\n",
        "\n",
        "    train_task=train_task,\n",
        "\n",
        "    test_task=test_task,\n",
        "\n",
        "    max_iter=tp.MAX_ITER,\n",
        "\n",
        "    log_interval=tp.LOG_INTERVAL,\n",
        "\n",
        "    test_interval=tp.TEST_INTERVAL,\n",
        "\n",
        "    n_repeats=tp.N_REPEATS,\n",
        "\n",
        "    n_evaluations=tp.NUM_TESTS,\n",
        "\n",
        "    seed=SEED,\n",
        "\n",
        "    log_dir=tp.LOG_DIR,\n",
        "\n",
        "    logger=logger,\n",
        ")\n"
      ],
      "metadata": {
        "id": "RaEzhIgTfWYg",
        "colab": {
          "base_uri": "https://localhost:8080/"
        },
        "outputId": "3b882425-a340-4635-d107-c7885597cbd2"
      },
      "execution_count": 7,
      "outputs": [
        {
          "output_type": "stream",
          "name": "stderr",
          "text": [
            "INFO:SlimeVolley:use_for_loop=False\n"
          ]
        }
      ]
    },
    {
      "cell_type": "code",
      "source": [],
      "metadata": {
        "id": "a6E8UlXqQMCL"
      },
      "execution_count": 10,
      "outputs": []
    },
    {
      "cell_type": "markdown",
      "source": [],
      "metadata": {
        "id": "JhD66YbBQgno"
      }
    },
    {
      "cell_type": "code",
      "source": [
        "trainer.run(demo_mode=False)"
      ],
      "metadata": {
        "colab": {
          "base_uri": "https://localhost:8080/",
          "height": 1000
        },
        "id": "0n5iyiSUuDAH",
        "outputId": "816f393b-2770-41cf-c7e5-48cb2c1850cb"
      },
      "execution_count": 8,
      "outputs": [
        {
          "output_type": "stream",
          "name": "stderr",
          "text": [
            "INFO:SlimeVolley:Start to train for 50 iterations.\n"
          ]
        },
        {
          "output_type": "stream",
          "name": "stdout",
          "text": [
            "Problem in ask\n",
            "Problem in _initPop\n"
          ]
        },
        {
          "output_type": "error",
          "ename": "TypeError",
          "evalue": "Value '<ind.Ind object at 0x790764b73be0>' with dtype object is not a valid JAX array type. Only arrays of numeric types are supported by JAX.",
          "traceback": [
            "\u001b[0;31m---------------------------------------------------------------------------\u001b[0m",
            "\u001b[0;31mTypeError\u001b[0m                                 Traceback (most recent call last)",
            "\u001b[0;32m/usr/local/lib/python3.10/dist-packages/jax/_src/dtypes.py\u001b[0m in \u001b[0;36mdtype\u001b[0;34m(x, canonicalize)\u001b[0m\n\u001b[1;32m    604\u001b[0m     \u001b[0;32mtry\u001b[0m\u001b[0;34m:\u001b[0m\u001b[0;34m\u001b[0m\u001b[0;34m\u001b[0m\u001b[0m\n\u001b[0;32m--> 605\u001b[0;31m       \u001b[0mdt\u001b[0m \u001b[0;34m=\u001b[0m \u001b[0mnp\u001b[0m\u001b[0;34m.\u001b[0m\u001b[0mresult_type\u001b[0m\u001b[0;34m(\u001b[0m\u001b[0mx\u001b[0m\u001b[0;34m)\u001b[0m\u001b[0;34m\u001b[0m\u001b[0;34m\u001b[0m\u001b[0m\n\u001b[0m\u001b[1;32m    606\u001b[0m     \u001b[0;32mexcept\u001b[0m \u001b[0mTypeError\u001b[0m \u001b[0;32mas\u001b[0m \u001b[0merr\u001b[0m\u001b[0;34m:\u001b[0m\u001b[0;34m\u001b[0m\u001b[0;34m\u001b[0m\u001b[0m\n",
            "\u001b[0;32m/usr/local/lib/python3.10/dist-packages/numpy/core/overrides.py\u001b[0m in \u001b[0;36mresult_type\u001b[0;34m(*args, **kwargs)\u001b[0m\n",
            "\u001b[0;31mTypeError\u001b[0m: Cannot interpret '<ind.Ind object at 0x790764b73be0>' as a data type",
            "\nThe above exception was the direct cause of the following exception:\n",
            "\u001b[0;31mTypeError\u001b[0m                                 Traceback (most recent call last)",
            "\u001b[0;32m/usr/local/lib/python3.10/dist-packages/jax/_src/numpy/lax_numpy.py\u001b[0m in \u001b[0;36marray\u001b[0;34m(object, dtype, copy, order, ndmin)\u001b[0m\n\u001b[1;32m   2134\u001b[0m     \u001b[0;32mtry\u001b[0m\u001b[0;34m:\u001b[0m\u001b[0;34m\u001b[0m\u001b[0;34m\u001b[0m\u001b[0m\n\u001b[0;32m-> 2135\u001b[0;31m       \u001b[0mdtype\u001b[0m \u001b[0;34m=\u001b[0m \u001b[0mdtypes\u001b[0m\u001b[0;34m.\u001b[0m\u001b[0m_lattice_result_type\u001b[0m\u001b[0;34m(\u001b[0m\u001b[0;34m*\u001b[0m\u001b[0mleaves\u001b[0m\u001b[0;34m)\u001b[0m\u001b[0;34m[\u001b[0m\u001b[0;36m0\u001b[0m\u001b[0;34m]\u001b[0m \u001b[0;32mif\u001b[0m \u001b[0mleaves\u001b[0m \u001b[0;32melse\u001b[0m \u001b[0mdtypes\u001b[0m\u001b[0;34m.\u001b[0m\u001b[0mfloat_\u001b[0m\u001b[0;34m\u001b[0m\u001b[0;34m\u001b[0m\u001b[0m\n\u001b[0m\u001b[1;32m   2136\u001b[0m     \u001b[0;32mexcept\u001b[0m \u001b[0mTypeError\u001b[0m\u001b[0;34m:\u001b[0m\u001b[0;34m\u001b[0m\u001b[0;34m\u001b[0m\u001b[0m\n",
            "\u001b[0;32m/usr/local/lib/python3.10/dist-packages/jax/_src/dtypes.py\u001b[0m in \u001b[0;36m_lattice_result_type\u001b[0;34m(*args)\u001b[0m\n\u001b[1;32m    614\u001b[0m \u001b[0;32mdef\u001b[0m \u001b[0m_lattice_result_type\u001b[0m\u001b[0;34m(\u001b[0m\u001b[0;34m*\u001b[0m\u001b[0margs\u001b[0m\u001b[0;34m:\u001b[0m \u001b[0mAny\u001b[0m\u001b[0;34m)\u001b[0m \u001b[0;34m->\u001b[0m \u001b[0mtuple\u001b[0m\u001b[0;34m[\u001b[0m\u001b[0mDType\u001b[0m\u001b[0;34m,\u001b[0m \u001b[0mbool\u001b[0m\u001b[0;34m]\u001b[0m\u001b[0;34m:\u001b[0m\u001b[0;34m\u001b[0m\u001b[0;34m\u001b[0m\u001b[0m\n\u001b[0;32m--> 615\u001b[0;31m   \u001b[0mdtypes\u001b[0m\u001b[0;34m,\u001b[0m \u001b[0mweak_types\u001b[0m \u001b[0;34m=\u001b[0m \u001b[0mzip\u001b[0m\u001b[0;34m(\u001b[0m\u001b[0;34m*\u001b[0m\u001b[0;34m(\u001b[0m\u001b[0m_dtype_and_weaktype\u001b[0m\u001b[0;34m(\u001b[0m\u001b[0marg\u001b[0m\u001b[0;34m)\u001b[0m \u001b[0;32mfor\u001b[0m \u001b[0marg\u001b[0m \u001b[0;32min\u001b[0m \u001b[0margs\u001b[0m\u001b[0;34m)\u001b[0m\u001b[0;34m)\u001b[0m\u001b[0;34m\u001b[0m\u001b[0;34m\u001b[0m\u001b[0m\n\u001b[0m\u001b[1;32m    616\u001b[0m   \u001b[0;32mif\u001b[0m \u001b[0mlen\u001b[0m\u001b[0;34m(\u001b[0m\u001b[0mdtypes\u001b[0m\u001b[0;34m)\u001b[0m \u001b[0;34m==\u001b[0m \u001b[0;36m1\u001b[0m\u001b[0;34m:\u001b[0m\u001b[0;34m\u001b[0m\u001b[0;34m\u001b[0m\u001b[0m\n",
            "\u001b[0;32m/usr/local/lib/python3.10/dist-packages/jax/_src/dtypes.py\u001b[0m in \u001b[0;36m<genexpr>\u001b[0;34m(.0)\u001b[0m\n\u001b[1;32m    614\u001b[0m \u001b[0;32mdef\u001b[0m \u001b[0m_lattice_result_type\u001b[0m\u001b[0;34m(\u001b[0m\u001b[0;34m*\u001b[0m\u001b[0margs\u001b[0m\u001b[0;34m:\u001b[0m \u001b[0mAny\u001b[0m\u001b[0;34m)\u001b[0m \u001b[0;34m->\u001b[0m \u001b[0mtuple\u001b[0m\u001b[0;34m[\u001b[0m\u001b[0mDType\u001b[0m\u001b[0;34m,\u001b[0m \u001b[0mbool\u001b[0m\u001b[0;34m]\u001b[0m\u001b[0;34m:\u001b[0m\u001b[0;34m\u001b[0m\u001b[0;34m\u001b[0m\u001b[0m\n\u001b[0;32m--> 615\u001b[0;31m   \u001b[0mdtypes\u001b[0m\u001b[0;34m,\u001b[0m \u001b[0mweak_types\u001b[0m \u001b[0;34m=\u001b[0m \u001b[0mzip\u001b[0m\u001b[0;34m(\u001b[0m\u001b[0;34m*\u001b[0m\u001b[0;34m(\u001b[0m\u001b[0m_dtype_and_weaktype\u001b[0m\u001b[0;34m(\u001b[0m\u001b[0marg\u001b[0m\u001b[0;34m)\u001b[0m \u001b[0;32mfor\u001b[0m \u001b[0marg\u001b[0m \u001b[0;32min\u001b[0m \u001b[0margs\u001b[0m\u001b[0;34m)\u001b[0m\u001b[0;34m)\u001b[0m\u001b[0;34m\u001b[0m\u001b[0;34m\u001b[0m\u001b[0m\n\u001b[0m\u001b[1;32m    616\u001b[0m   \u001b[0;32mif\u001b[0m \u001b[0mlen\u001b[0m\u001b[0;34m(\u001b[0m\u001b[0mdtypes\u001b[0m\u001b[0;34m)\u001b[0m \u001b[0;34m==\u001b[0m \u001b[0;36m1\u001b[0m\u001b[0;34m:\u001b[0m\u001b[0;34m\u001b[0m\u001b[0;34m\u001b[0m\u001b[0m\n",
            "\u001b[0;32m/usr/local/lib/python3.10/dist-packages/jax/_src/dtypes.py\u001b[0m in \u001b[0;36m_dtype_and_weaktype\u001b[0;34m(value)\u001b[0m\n\u001b[1;32m    422\u001b[0m   \u001b[0;34m\"\"\"Return a (dtype, weak_type) tuple for the given input.\"\"\"\u001b[0m\u001b[0;34m\u001b[0m\u001b[0;34m\u001b[0m\u001b[0m\n\u001b[0;32m--> 423\u001b[0;31m   \u001b[0;32mreturn\u001b[0m \u001b[0mdtype\u001b[0m\u001b[0;34m(\u001b[0m\u001b[0mvalue\u001b[0m\u001b[0;34m)\u001b[0m\u001b[0;34m,\u001b[0m \u001b[0many\u001b[0m\u001b[0;34m(\u001b[0m\u001b[0mvalue\u001b[0m \u001b[0;32mis\u001b[0m \u001b[0mtyp\u001b[0m \u001b[0;32mfor\u001b[0m \u001b[0mtyp\u001b[0m \u001b[0;32min\u001b[0m \u001b[0m_weak_types\u001b[0m\u001b[0;34m)\u001b[0m \u001b[0;32mor\u001b[0m \u001b[0mis_weakly_typed\u001b[0m\u001b[0;34m(\u001b[0m\u001b[0mvalue\u001b[0m\u001b[0;34m)\u001b[0m\u001b[0;34m\u001b[0m\u001b[0;34m\u001b[0m\u001b[0m\n\u001b[0m\u001b[1;32m    424\u001b[0m \u001b[0;34m\u001b[0m\u001b[0m\n",
            "\u001b[0;32m/usr/local/lib/python3.10/dist-packages/jax/_src/dtypes.py\u001b[0m in \u001b[0;36mdtype\u001b[0;34m(x, canonicalize)\u001b[0m\n\u001b[1;32m    606\u001b[0m     \u001b[0;32mexcept\u001b[0m \u001b[0mTypeError\u001b[0m \u001b[0;32mas\u001b[0m \u001b[0merr\u001b[0m\u001b[0;34m:\u001b[0m\u001b[0;34m\u001b[0m\u001b[0;34m\u001b[0m\u001b[0m\n\u001b[0;32m--> 607\u001b[0;31m       \u001b[0;32mraise\u001b[0m \u001b[0mTypeError\u001b[0m\u001b[0;34m(\u001b[0m\u001b[0;34mf\"Cannot determine dtype of {x}\"\u001b[0m\u001b[0;34m)\u001b[0m \u001b[0;32mfrom\u001b[0m \u001b[0merr\u001b[0m\u001b[0;34m\u001b[0m\u001b[0;34m\u001b[0m\u001b[0m\n\u001b[0m\u001b[1;32m    608\u001b[0m   \u001b[0;32mif\u001b[0m \u001b[0mdt\u001b[0m \u001b[0;32mnot\u001b[0m \u001b[0;32min\u001b[0m \u001b[0m_jax_dtype_set\u001b[0m \u001b[0;32mand\u001b[0m \u001b[0;32mnot\u001b[0m \u001b[0missubdtype\u001b[0m\u001b[0;34m(\u001b[0m\u001b[0mdt\u001b[0m\u001b[0;34m,\u001b[0m \u001b[0mextended\u001b[0m\u001b[0;34m)\u001b[0m\u001b[0;34m:\u001b[0m\u001b[0;34m\u001b[0m\u001b[0;34m\u001b[0m\u001b[0m\n",
            "\u001b[0;31mTypeError\u001b[0m: Cannot determine dtype of <ind.Ind object at 0x790764b73be0>",
            "\nDuring handling of the above exception, another exception occurred:\n",
            "\u001b[0;31mTypeError\u001b[0m                                 Traceback (most recent call last)",
            "\u001b[0;32m<ipython-input-8-7f569b5b71c2>\u001b[0m in \u001b[0;36m<cell line: 1>\u001b[0;34m()\u001b[0m\n\u001b[0;32m----> 1\u001b[0;31m \u001b[0mtrainer\u001b[0m\u001b[0;34m.\u001b[0m\u001b[0mrun\u001b[0m\u001b[0;34m(\u001b[0m\u001b[0mdemo_mode\u001b[0m\u001b[0;34m=\u001b[0m\u001b[0;32mFalse\u001b[0m\u001b[0;34m)\u001b[0m\u001b[0;34m\u001b[0m\u001b[0;34m\u001b[0m\u001b[0m\n\u001b[0m",
            "\u001b[0;32m/usr/local/lib/python3.10/dist-packages/evojax/trainer.py\u001b[0m in \u001b[0;36mrun\u001b[0;34m(self, demo_mode)\u001b[0m\n\u001b[1;32m    145\u001b[0m             \u001b[0;32mfor\u001b[0m \u001b[0mi\u001b[0m \u001b[0;32min\u001b[0m \u001b[0mrange\u001b[0m\u001b[0;34m(\u001b[0m\u001b[0mself\u001b[0m\u001b[0;34m.\u001b[0m\u001b[0m_max_iter\u001b[0m\u001b[0;34m)\u001b[0m\u001b[0;34m:\u001b[0m\u001b[0;34m\u001b[0m\u001b[0;34m\u001b[0m\u001b[0m\n\u001b[1;32m    146\u001b[0m                 \u001b[0mstart_time\u001b[0m \u001b[0;34m=\u001b[0m \u001b[0mtime\u001b[0m\u001b[0;34m.\u001b[0m\u001b[0mperf_counter\u001b[0m\u001b[0;34m(\u001b[0m\u001b[0;34m)\u001b[0m\u001b[0;34m\u001b[0m\u001b[0;34m\u001b[0m\u001b[0m\n\u001b[0;32m--> 147\u001b[0;31m                 \u001b[0mparams\u001b[0m \u001b[0;34m=\u001b[0m \u001b[0mself\u001b[0m\u001b[0;34m.\u001b[0m\u001b[0msolver\u001b[0m\u001b[0;34m.\u001b[0m\u001b[0mask\u001b[0m\u001b[0;34m(\u001b[0m\u001b[0;34m)\u001b[0m\u001b[0;34m\u001b[0m\u001b[0;34m\u001b[0m\u001b[0m\n\u001b[0m\u001b[1;32m    148\u001b[0m                 self._logger.debug('solver.ask time: {0:.4f}s'.format(\n\u001b[1;32m    149\u001b[0m                     time.perf_counter() - start_time))\n",
            "\u001b[0;32m/content/neat.py\u001b[0m in \u001b[0;36mask\u001b[0;34m(self)\u001b[0m\n\u001b[1;32m     28\u001b[0m         \u001b[0mprint\u001b[0m\u001b[0;34m(\u001b[0m\u001b[0;34m\"Problem in ask\"\u001b[0m\u001b[0;34m)\u001b[0m\u001b[0;34m\u001b[0m\u001b[0;34m\u001b[0m\u001b[0m\n\u001b[1;32m     29\u001b[0m         \u001b[0;32mif\u001b[0m \u001b[0mlen\u001b[0m\u001b[0;34m(\u001b[0m\u001b[0mself\u001b[0m\u001b[0;34m.\u001b[0m\u001b[0mpop\u001b[0m\u001b[0;34m)\u001b[0m \u001b[0;34m==\u001b[0m \u001b[0;36m0\u001b[0m\u001b[0;34m:\u001b[0m\u001b[0;34m\u001b[0m\u001b[0;34m\u001b[0m\u001b[0m\n\u001b[0;32m---> 30\u001b[0;31m             \u001b[0mself\u001b[0m\u001b[0;34m.\u001b[0m\u001b[0m_initPop\u001b[0m\u001b[0;34m(\u001b[0m\u001b[0;34m)\u001b[0m\u001b[0;34m\u001b[0m\u001b[0;34m\u001b[0m\u001b[0m\n\u001b[0m\u001b[1;32m     31\u001b[0m \u001b[0;34m\u001b[0m\u001b[0m\n\u001b[1;32m     32\u001b[0m         \u001b[0;32melse\u001b[0m\u001b[0;34m:\u001b[0m\u001b[0;34m\u001b[0m\u001b[0;34m\u001b[0m\u001b[0m\n",
            "\u001b[0;32m/content/neat.py\u001b[0m in \u001b[0;36m_initPop\u001b[0;34m(self)\u001b[0m\n\u001b[1;32m    109\u001b[0m         \u001b[0mself\u001b[0m\u001b[0;34m.\u001b[0m\u001b[0mpop\u001b[0m \u001b[0;34m=\u001b[0m \u001b[0mpop\u001b[0m\u001b[0;34m\u001b[0m\u001b[0;34m\u001b[0m\u001b[0m\n\u001b[1;32m    110\u001b[0m \u001b[0;34m\u001b[0m\u001b[0m\n\u001b[0;32m--> 111\u001b[0;31m         \u001b[0mprint\u001b[0m\u001b[0;34m(\u001b[0m\u001b[0mtype\u001b[0m\u001b[0;34m(\u001b[0m\u001b[0mself\u001b[0m\u001b[0;34m.\u001b[0m\u001b[0mpop\u001b[0m\u001b[0;34m)\u001b[0m\u001b[0;34m)\u001b[0m\u001b[0;34m\u001b[0m\u001b[0;34m\u001b[0m\u001b[0m\n\u001b[0m\u001b[1;32m    112\u001b[0m         \u001b[0mprint\u001b[0m\u001b[0;34m(\u001b[0m\u001b[0mself\u001b[0m\u001b[0;34m.\u001b[0m\u001b[0mpop\u001b[0m\u001b[0;34m.\u001b[0m\u001b[0mdtype\u001b[0m\u001b[0;34m)\u001b[0m\u001b[0;34m\u001b[0m\u001b[0;34m\u001b[0m\u001b[0m\n\u001b[1;32m    113\u001b[0m \u001b[0;34m\u001b[0m\u001b[0m\n",
            "\u001b[0;32m/content/neat.py\u001b[0m in \u001b[0;36mpop\u001b[0;34m(self)\u001b[0m\n\u001b[1;32m     46\u001b[0m     \u001b[0;34m@\u001b[0m\u001b[0mproperty\u001b[0m\u001b[0;34m\u001b[0m\u001b[0;34m\u001b[0m\u001b[0m\n\u001b[1;32m     47\u001b[0m     \u001b[0;32mdef\u001b[0m \u001b[0mpop\u001b[0m\u001b[0;34m(\u001b[0m\u001b[0mself\u001b[0m\u001b[0;34m)\u001b[0m\u001b[0;34m:\u001b[0m\u001b[0;34m\u001b[0m\u001b[0;34m\u001b[0m\u001b[0m\n\u001b[0;32m---> 48\u001b[0;31m       \u001b[0;32mreturn\u001b[0m \u001b[0mjnp\u001b[0m\u001b[0;34m.\u001b[0m\u001b[0marray\u001b[0m\u001b[0;34m(\u001b[0m\u001b[0mself\u001b[0m\u001b[0;34m.\u001b[0m\u001b[0m_pop\u001b[0m\u001b[0;34m)\u001b[0m\u001b[0;34m\u001b[0m\u001b[0;34m\u001b[0m\u001b[0m\n\u001b[0m\u001b[1;32m     49\u001b[0m \u001b[0;34m\u001b[0m\u001b[0m\n\u001b[1;32m     50\u001b[0m     \u001b[0;34m@\u001b[0m\u001b[0mpop\u001b[0m\u001b[0;34m.\u001b[0m\u001b[0msetter\u001b[0m\u001b[0;34m\u001b[0m\u001b[0;34m\u001b[0m\u001b[0m\n",
            "\u001b[0;32m/usr/local/lib/python3.10/dist-packages/jax/_src/numpy/lax_numpy.py\u001b[0m in \u001b[0;36marray\u001b[0;34m(object, dtype, copy, order, ndmin)\u001b[0m\n\u001b[1;32m   2138\u001b[0m       \u001b[0;31m# This is rare, so we only handle it if the normal path fails.\u001b[0m\u001b[0;34m\u001b[0m\u001b[0;34m\u001b[0m\u001b[0m\n\u001b[1;32m   2139\u001b[0m       \u001b[0mleaves\u001b[0m \u001b[0;34m=\u001b[0m \u001b[0;34m[\u001b[0m\u001b[0m_convert_to_array_if_dtype_fails\u001b[0m\u001b[0;34m(\u001b[0m\u001b[0mleaf\u001b[0m\u001b[0;34m)\u001b[0m \u001b[0;32mfor\u001b[0m \u001b[0mleaf\u001b[0m \u001b[0;32min\u001b[0m \u001b[0mleaves\u001b[0m\u001b[0;34m]\u001b[0m\u001b[0;34m\u001b[0m\u001b[0;34m\u001b[0m\u001b[0m\n\u001b[0;32m-> 2140\u001b[0;31m       \u001b[0mdtype\u001b[0m \u001b[0;34m=\u001b[0m \u001b[0mdtypes\u001b[0m\u001b[0;34m.\u001b[0m\u001b[0m_lattice_result_type\u001b[0m\u001b[0;34m(\u001b[0m\u001b[0;34m*\u001b[0m\u001b[0mleaves\u001b[0m\u001b[0;34m)\u001b[0m\u001b[0;34m[\u001b[0m\u001b[0;36m0\u001b[0m\u001b[0;34m]\u001b[0m\u001b[0;34m\u001b[0m\u001b[0;34m\u001b[0m\u001b[0m\n\u001b[0m\u001b[1;32m   2141\u001b[0m \u001b[0;34m\u001b[0m\u001b[0m\n\u001b[1;32m   2142\u001b[0m   \u001b[0;32mif\u001b[0m \u001b[0;32mnot\u001b[0m \u001b[0mweak_type\u001b[0m\u001b[0;34m:\u001b[0m\u001b[0;34m\u001b[0m\u001b[0;34m\u001b[0m\u001b[0m\n",
            "\u001b[0;32m/usr/local/lib/python3.10/dist-packages/jax/_src/dtypes.py\u001b[0m in \u001b[0;36m_lattice_result_type\u001b[0;34m(*args)\u001b[0m\n\u001b[1;32m    613\u001b[0m \u001b[0;34m\u001b[0m\u001b[0m\n\u001b[1;32m    614\u001b[0m \u001b[0;32mdef\u001b[0m \u001b[0m_lattice_result_type\u001b[0m\u001b[0;34m(\u001b[0m\u001b[0;34m*\u001b[0m\u001b[0margs\u001b[0m\u001b[0;34m:\u001b[0m \u001b[0mAny\u001b[0m\u001b[0;34m)\u001b[0m \u001b[0;34m->\u001b[0m \u001b[0mtuple\u001b[0m\u001b[0;34m[\u001b[0m\u001b[0mDType\u001b[0m\u001b[0;34m,\u001b[0m \u001b[0mbool\u001b[0m\u001b[0;34m]\u001b[0m\u001b[0;34m:\u001b[0m\u001b[0;34m\u001b[0m\u001b[0;34m\u001b[0m\u001b[0m\n\u001b[0;32m--> 615\u001b[0;31m   \u001b[0mdtypes\u001b[0m\u001b[0;34m,\u001b[0m \u001b[0mweak_types\u001b[0m \u001b[0;34m=\u001b[0m \u001b[0mzip\u001b[0m\u001b[0;34m(\u001b[0m\u001b[0;34m*\u001b[0m\u001b[0;34m(\u001b[0m\u001b[0m_dtype_and_weaktype\u001b[0m\u001b[0;34m(\u001b[0m\u001b[0marg\u001b[0m\u001b[0;34m)\u001b[0m \u001b[0;32mfor\u001b[0m \u001b[0marg\u001b[0m \u001b[0;32min\u001b[0m \u001b[0margs\u001b[0m\u001b[0;34m)\u001b[0m\u001b[0;34m)\u001b[0m\u001b[0;34m\u001b[0m\u001b[0;34m\u001b[0m\u001b[0m\n\u001b[0m\u001b[1;32m    616\u001b[0m   \u001b[0;32mif\u001b[0m \u001b[0mlen\u001b[0m\u001b[0;34m(\u001b[0m\u001b[0mdtypes\u001b[0m\u001b[0;34m)\u001b[0m \u001b[0;34m==\u001b[0m \u001b[0;36m1\u001b[0m\u001b[0;34m:\u001b[0m\u001b[0;34m\u001b[0m\u001b[0;34m\u001b[0m\u001b[0m\n\u001b[1;32m    617\u001b[0m     \u001b[0mout_dtype\u001b[0m \u001b[0;34m=\u001b[0m \u001b[0mdtypes\u001b[0m\u001b[0;34m[\u001b[0m\u001b[0;36m0\u001b[0m\u001b[0;34m]\u001b[0m\u001b[0;34m\u001b[0m\u001b[0;34m\u001b[0m\u001b[0m\n",
            "\u001b[0;32m/usr/local/lib/python3.10/dist-packages/jax/_src/dtypes.py\u001b[0m in \u001b[0;36m<genexpr>\u001b[0;34m(.0)\u001b[0m\n\u001b[1;32m    613\u001b[0m \u001b[0;34m\u001b[0m\u001b[0m\n\u001b[1;32m    614\u001b[0m \u001b[0;32mdef\u001b[0m \u001b[0m_lattice_result_type\u001b[0m\u001b[0;34m(\u001b[0m\u001b[0;34m*\u001b[0m\u001b[0margs\u001b[0m\u001b[0;34m:\u001b[0m \u001b[0mAny\u001b[0m\u001b[0;34m)\u001b[0m \u001b[0;34m->\u001b[0m \u001b[0mtuple\u001b[0m\u001b[0;34m[\u001b[0m\u001b[0mDType\u001b[0m\u001b[0;34m,\u001b[0m \u001b[0mbool\u001b[0m\u001b[0;34m]\u001b[0m\u001b[0;34m:\u001b[0m\u001b[0;34m\u001b[0m\u001b[0;34m\u001b[0m\u001b[0m\n\u001b[0;32m--> 615\u001b[0;31m   \u001b[0mdtypes\u001b[0m\u001b[0;34m,\u001b[0m \u001b[0mweak_types\u001b[0m \u001b[0;34m=\u001b[0m \u001b[0mzip\u001b[0m\u001b[0;34m(\u001b[0m\u001b[0;34m*\u001b[0m\u001b[0;34m(\u001b[0m\u001b[0m_dtype_and_weaktype\u001b[0m\u001b[0;34m(\u001b[0m\u001b[0marg\u001b[0m\u001b[0;34m)\u001b[0m \u001b[0;32mfor\u001b[0m \u001b[0marg\u001b[0m \u001b[0;32min\u001b[0m \u001b[0margs\u001b[0m\u001b[0;34m)\u001b[0m\u001b[0;34m)\u001b[0m\u001b[0;34m\u001b[0m\u001b[0;34m\u001b[0m\u001b[0m\n\u001b[0m\u001b[1;32m    616\u001b[0m   \u001b[0;32mif\u001b[0m \u001b[0mlen\u001b[0m\u001b[0;34m(\u001b[0m\u001b[0mdtypes\u001b[0m\u001b[0;34m)\u001b[0m \u001b[0;34m==\u001b[0m \u001b[0;36m1\u001b[0m\u001b[0;34m:\u001b[0m\u001b[0;34m\u001b[0m\u001b[0;34m\u001b[0m\u001b[0m\n\u001b[1;32m    617\u001b[0m     \u001b[0mout_dtype\u001b[0m \u001b[0;34m=\u001b[0m \u001b[0mdtypes\u001b[0m\u001b[0;34m[\u001b[0m\u001b[0;36m0\u001b[0m\u001b[0;34m]\u001b[0m\u001b[0;34m\u001b[0m\u001b[0;34m\u001b[0m\u001b[0m\n",
            "\u001b[0;32m/usr/local/lib/python3.10/dist-packages/jax/_src/dtypes.py\u001b[0m in \u001b[0;36m_dtype_and_weaktype\u001b[0;34m(value)\u001b[0m\n\u001b[1;32m    421\u001b[0m \u001b[0;32mdef\u001b[0m \u001b[0m_dtype_and_weaktype\u001b[0m\u001b[0;34m(\u001b[0m\u001b[0mvalue\u001b[0m\u001b[0;34m:\u001b[0m \u001b[0mAny\u001b[0m\u001b[0;34m)\u001b[0m \u001b[0;34m->\u001b[0m \u001b[0mtuple\u001b[0m\u001b[0;34m[\u001b[0m\u001b[0mDType\u001b[0m\u001b[0;34m,\u001b[0m \u001b[0mbool\u001b[0m\u001b[0;34m]\u001b[0m\u001b[0;34m:\u001b[0m\u001b[0;34m\u001b[0m\u001b[0;34m\u001b[0m\u001b[0m\n\u001b[1;32m    422\u001b[0m   \u001b[0;34m\"\"\"Return a (dtype, weak_type) tuple for the given input.\"\"\"\u001b[0m\u001b[0;34m\u001b[0m\u001b[0;34m\u001b[0m\u001b[0m\n\u001b[0;32m--> 423\u001b[0;31m   \u001b[0;32mreturn\u001b[0m \u001b[0mdtype\u001b[0m\u001b[0;34m(\u001b[0m\u001b[0mvalue\u001b[0m\u001b[0;34m)\u001b[0m\u001b[0;34m,\u001b[0m \u001b[0many\u001b[0m\u001b[0;34m(\u001b[0m\u001b[0mvalue\u001b[0m \u001b[0;32mis\u001b[0m \u001b[0mtyp\u001b[0m \u001b[0;32mfor\u001b[0m \u001b[0mtyp\u001b[0m \u001b[0;32min\u001b[0m \u001b[0m_weak_types\u001b[0m\u001b[0;34m)\u001b[0m \u001b[0;32mor\u001b[0m \u001b[0mis_weakly_typed\u001b[0m\u001b[0;34m(\u001b[0m\u001b[0mvalue\u001b[0m\u001b[0;34m)\u001b[0m\u001b[0;34m\u001b[0m\u001b[0;34m\u001b[0m\u001b[0m\n\u001b[0m\u001b[1;32m    424\u001b[0m \u001b[0;34m\u001b[0m\u001b[0m\n\u001b[1;32m    425\u001b[0m \u001b[0;32mdef\u001b[0m \u001b[0m_type_promotion_lattice\u001b[0m\u001b[0;34m(\u001b[0m\u001b[0mjax_numpy_dtype_promotion\u001b[0m\u001b[0;34m:\u001b[0m \u001b[0mstr\u001b[0m\u001b[0;34m)\u001b[0m \u001b[0;34m->\u001b[0m \u001b[0mdict\u001b[0m\u001b[0;34m[\u001b[0m\u001b[0mJAXType\u001b[0m\u001b[0;34m,\u001b[0m \u001b[0mlist\u001b[0m\u001b[0;34m[\u001b[0m\u001b[0mJAXType\u001b[0m\u001b[0;34m]\u001b[0m\u001b[0;34m]\u001b[0m\u001b[0;34m:\u001b[0m\u001b[0;34m\u001b[0m\u001b[0;34m\u001b[0m\u001b[0m\n",
            "\u001b[0;32m/usr/local/lib/python3.10/dist-packages/jax/_src/dtypes.py\u001b[0m in \u001b[0;36mdtype\u001b[0;34m(x, canonicalize)\u001b[0m\n\u001b[1;32m    607\u001b[0m       \u001b[0;32mraise\u001b[0m \u001b[0mTypeError\u001b[0m\u001b[0;34m(\u001b[0m\u001b[0;34mf\"Cannot determine dtype of {x}\"\u001b[0m\u001b[0;34m)\u001b[0m \u001b[0;32mfrom\u001b[0m \u001b[0merr\u001b[0m\u001b[0;34m\u001b[0m\u001b[0;34m\u001b[0m\u001b[0m\n\u001b[1;32m    608\u001b[0m   \u001b[0;32mif\u001b[0m \u001b[0mdt\u001b[0m \u001b[0;32mnot\u001b[0m \u001b[0;32min\u001b[0m \u001b[0m_jax_dtype_set\u001b[0m \u001b[0;32mand\u001b[0m \u001b[0;32mnot\u001b[0m \u001b[0missubdtype\u001b[0m\u001b[0;34m(\u001b[0m\u001b[0mdt\u001b[0m\u001b[0;34m,\u001b[0m \u001b[0mextended\u001b[0m\u001b[0;34m)\u001b[0m\u001b[0;34m:\u001b[0m\u001b[0;34m\u001b[0m\u001b[0;34m\u001b[0m\u001b[0m\n\u001b[0;32m--> 609\u001b[0;31m     raise TypeError(f\"Value '{x}' with dtype {dt} is not a valid JAX array \"\n\u001b[0m\u001b[1;32m    610\u001b[0m                     \"type. Only arrays of numeric types are supported by JAX.\")\n\u001b[1;32m    611\u001b[0m   \u001b[0;31m# TODO(jakevdp): fix return type annotation and remove this ignore.\u001b[0m\u001b[0;34m\u001b[0m\u001b[0;34m\u001b[0m\u001b[0m\n",
            "\u001b[0;31mTypeError\u001b[0m: Value '<ind.Ind object at 0x790764b73be0>' with dtype object is not a valid JAX array type. Only arrays of numeric types are supported by JAX."
          ]
        }
      ]
    },
    {
      "cell_type": "code",
      "source": [
        "src_file = os.path.join(tp.LOG_DIR, 'best.npz')\n",
        "tar_file = os.path.join(tp.LOG_DIR, 'model.npz')\n",
        "\n",
        "shutil.copy(src_file, tar_file)\n",
        "\n",
        "trainer.model_dir = tp.LOG_DIR\n",
        "trainer.run(demo_mode=True)"
      ],
      "metadata": {
        "colab": {
          "base_uri": "https://localhost:8080/"
        },
        "id": "MlmR6ihCfneO",
        "outputId": "6f9bb2e4-4e71-45ae-de60-2a96268b4991"
      },
      "execution_count": null,
      "outputs": [
        {
          "output_type": "stream",
          "name": "stderr",
          "text": [
            "INFO:SlimeVolley:Loaded model parameters from ./log/slimevolley.\n",
            "INFO:SlimeVolley:Start to test the parameters.\n",
            "INFO:SlimeVolley:[TEST] #tests=100, max=-3.0000, avg=-4.8300, min=-5.0000, std=0.4256\n"
          ]
        },
        {
          "output_type": "execute_result",
          "data": {
            "text/plain": [
              "-4.83"
            ]
          },
          "metadata": {},
          "execution_count": 8
        }
      ]
    },
    {
      "cell_type": "code",
      "source": [
        "task_reset_fn = jax.jit(test_task.reset)\n",
        "policy_reset_fn = jax.jit(policy.reset)\n",
        "step_fn = jax.jit(test_task.step)\n",
        "action_fn = jax.jit(policy.get_actions)\n",
        "best_params = trainer.solver.best_params[None, :]\n",
        "key = jax.random.PRNGKey(0)[None, :]"
      ],
      "metadata": {
        "id": "U31W_MGyfxIz"
      },
      "execution_count": null,
      "outputs": []
    },
    {
      "cell_type": "code",
      "source": [
        "task_state = task_reset_fn(key)\n",
        "policy_state = policy_reset_fn(task_state)\n",
        "screens = []\n",
        "for _ in range(MAX_STEPS):\n",
        "    action, policy_state = action_fn(task_state, best_params, policy_state)\n",
        "    task_state, reward, done = step_fn(task_state, action)\n",
        "    screens.append(SlimeVolley.render(task_state))\n",
        "\n",
        "gif_file = os.path.join(LOG_DIR, 'slimevolley.gif')\n",
        "screens[0].save(gif_file, save_all=True, append_images=screens[1:],\n",
        "                duration=40, loop=0)\n",
        "logger.info('GIF saved to {}.'.format(gif_file))"
      ],
      "metadata": {
        "colab": {
          "base_uri": "https://localhost:8080/"
        },
        "id": "Vbd_Sc-ff3OC",
        "outputId": "94f1632e-c448-4e05-a7cf-f0ed8a47d864"
      },
      "execution_count": null,
      "outputs": [
        {
          "output_type": "stream",
          "name": "stderr",
          "text": [
            "INFO:SlimeVolley:GIF saved to ./log/slimevolley/slimevolley.gif.\n"
          ]
        }
      ]
    },
    {
      "cell_type": "code",
      "source": [],
      "metadata": {
        "id": "RWqsvNmEmyus"
      },
      "execution_count": null,
      "outputs": []
    },
    {
      "cell_type": "markdown",
      "source": [
        "This is working !! We are getting a GIF as we want. The task now is to make a evojax algo for NEAT. This will require some really good tweaking. Will update as things go..."
      ],
      "metadata": {
        "id": "CL7UbQxXnl_V"
      }
    },
    {
      "cell_type": "code",
      "source": [
        "## The base class for NE Algos.\n",
        "\n",
        "import copy\n",
        "from abc import ABC\n",
        "from abc import abstractmethod\n",
        "from typing import Any\n",
        "from typing import Dict\n",
        "from typing import Union\n",
        "import numpy as np\n",
        "import jax.numpy as jnp\n",
        "\n",
        "class NEAlgorithm(ABC):\n",
        "    \"\"\"Interface of all Neuro-evolution algorithms in EvoJAX.\"\"\"\n",
        "\n",
        "    pop_size: int\n",
        "\n",
        "    @abstractmethod\n",
        "    def ask(self) -> jnp.ndarray:\n",
        "        \"\"\"Ask the algorithm for a population of parameters.\n",
        "\n",
        "        Returns\n",
        "            A Jax array of shape (population_size, param_size).\n",
        "        \"\"\"\n",
        "        raise NotImplementedError()\n",
        "\n",
        "    @abstractmethod\n",
        "    def tell(self, fitness: Union[jnp.ndarray, jnp.ndarray]) -> None:\n",
        "        \"\"\"Report the fitness of the population to the algorithm.\n",
        "\n",
        "        Args:\n",
        "            fitness - The fitness scores array.\n",
        "        \"\"\"\n",
        "        raise NotImplementedError()\n",
        "\n",
        "    def save_state(self) -> Any:\n",
        "        \"\"\"Optionally, save the state of the algorithm.\n",
        "\n",
        "        Returns\n",
        "            Saved state.\n",
        "        \"\"\"\n",
        "        return None\n",
        "\n",
        "    def load_state(self, saved_state: Any) -> None:\n",
        "        \"\"\"Optionally, load the saved state of the algorithm.\n",
        "\n",
        "        Args:\n",
        "            saved_states - The result of self.save_states().\n",
        "        \"\"\"\n",
        "        pass\n",
        "\n",
        "    @property\n",
        "    def best_params(self) -> jnp.ndarray:\n",
        "        raise NotImplementedError()\n",
        "\n",
        "    @best_params.setter\n",
        "    def best_params(self, params: Union[np.ndarray, jnp.ndarray]) -> None:\n",
        "        raise NotImplementedError()\n"
      ],
      "metadata": {
        "id": "YDLsgeCyoQe9"
      },
      "execution_count": null,
      "outputs": []
    },
    {
      "cell_type": "code",
      "source": [
        "## Necessary Functions :\n",
        "\n",
        "def getFronts(objVals):\n",
        "  \"\"\"Fast non-dominated sort.\n",
        "\n",
        "  Args:\n",
        "    objVals - (np_array) - Objective values of each individual\n",
        "              [nInds X nObjectives]\n",
        "\n",
        "  Returns:\n",
        "    front   - [list of lists] - One list for each front:\n",
        "                                list of indices of individuals in front\n",
        "\n",
        "  Todo:\n",
        "    * Extend to N objectives\n",
        "\n",
        "  [adapted from: https://github.com/haris989/NSGA-II]\n",
        "  \"\"\"\n",
        "\n",
        "  values1 = objVals[:,0]\n",
        "  values2 = objVals[:,1]\n",
        "\n",
        "  S=[[] for i in range(0,len(values1))]\n",
        "  front = [[]]\n",
        "  n=[0 for i in range(0,len(values1))]\n",
        "  rank = [0 for i in range(0, len(values1))]\n",
        "  # Get domination relations\n",
        "  for p in range(0,len(values1)):\n",
        "      S[p]=[]\n",
        "      n[p]=0\n",
        "      for q in range(0, len(values1)):\n",
        "          if (values1[p] > values1[q] and values2[p] > values2[q]) \\\n",
        "          or (values1[p] >= values1[q] and values2[p] > values2[q]) \\\n",
        "          or (values1[p] > values1[q] and values2[p] >= values2[q]):\n",
        "              if q not in S[p]:\n",
        "                  S[p].append(q)\n",
        "          elif (values1[q] > values1[p] and values2[q] > values2[p]) \\\n",
        "          or (values1[q] >= values1[p] and values2[q] > values2[p]) \\\n",
        "          or (values1[q] > values1[p] and values2[q] >= values2[p]):\n",
        "              n[p] = n[p] + 1\n",
        "      if n[p]==0:\n",
        "          rank[p] = 0\n",
        "          if p not in front[0]:\n",
        "              front[0].append(p)\n",
        "\n",
        "  # Assign fronts\n",
        "  i = 0\n",
        "  while(front[i] != []):\n",
        "      Q=[]\n",
        "      for p in front[i]:\n",
        "          for q in S[p]:\n",
        "              n[q] =n[q] - 1\n",
        "              if( n[q]==0):\n",
        "                  rank[q]=i+1\n",
        "                  if q not in Q:\n",
        "                      Q.append(q)\n",
        "      i = i+1\n",
        "      front.append(Q)\n",
        "  del front[len(front)-1]\n",
        "  return front\n",
        "\n",
        "def getCrowdingDist(objVector):\n",
        "  \"\"\"Returns crowding distance of a vector of values, used once on each front.\n",
        "\n",
        "  Note: Crowding distance of individuals at each end of front is infinite, as they don't have a neighbor.\n",
        "\n",
        "  Args:\n",
        "    objVector - (np_array) - Objective values of each individual\n",
        "                [nInds X nObjectives]\n",
        "\n",
        "  Returns:\n",
        "    dist      - (np_array) - Crowding distance of each individual\n",
        "                [nIndividuals X 1]\n",
        "  \"\"\"\n",
        "  # Order by objective value\n",
        "  key = jnp.argsort(objVector)\n",
        "  sortedObj = objVector[key]\n",
        "\n",
        "  # Distance from values on either side\n",
        "  shiftVec = jnp.r_[jnp.inf,sortedObj,jnp.inf] # Edges have infinite distance\n",
        "\n",
        "  warnings.filterwarnings(\"ignore\", category=RuntimeWarning) # inf on purpose\n",
        "\n",
        "  prevDist = jnp.abs(sortedObj-shiftVec[:-2])\n",
        "  nextDist = jnp.abs(sortedObj-shiftVec[2:])\n",
        "\n",
        "  crowd = prevDist+nextDist\n",
        "  if (sortedObj[-1]-sortedObj[0]) > 0:\n",
        "    crowd *= abs((1/sortedObj[-1]-sortedObj[0])) # Normalize by fitness range\n",
        "\n",
        "  # Restore original order\n",
        "  dist = jnp.empty(len(key))\n",
        "  dist[key] = crowd[:]\n",
        "\n",
        "  return dist\n",
        "\n",
        "\n",
        "def nsga_sort(objVals, returnFronts=False):\n",
        "  \"\"\"Returns ranking of objective values based on non-dominated sorting.\n",
        "  Optionally returns fronts (useful for visualization).\n",
        "\n",
        "  NOTE: Assumes maximization of objective function\n",
        "\n",
        "  Args:\n",
        "    objVals - (np_array) - Objective values of each individual\n",
        "              [nInds X nObjectives]\n",
        "\n",
        "  Returns:\n",
        "    rank    - (np_array) - Rank in population of each individual\n",
        "            int([nIndividuals X 1])\n",
        "    front   - (np_array) - Pareto front of each individual\n",
        "            int([nIndividuals X 1])\n",
        "\n",
        "  Todo:\n",
        "    * Extend to N objectives\n",
        "  \"\"\"\n",
        "  fronts = getFronts(objVals)\n",
        "\n",
        "  # Rank each individual in each front by crowding distance\n",
        "  for f in range(len(fronts)):\n",
        "    x1 = objVals[fronts[f],0]\n",
        "    x2 = objVals[fronts[f],1]\n",
        "    crowdDist = getCrowdingDist(x1) + getCrowdingDist(x2)\n",
        "    frontRank = jnp.argsort(-crowdDist)\n",
        "    fronts[f] = [fronts[f][i] for i in frontRank]\n",
        "\n",
        "  # Convert to ranking\n",
        "  tmp = [ind for front in fronts for ind in front]\n",
        "  rank = jnp.empty_like(tmp)\n",
        "  rank[tmp] = jnp.arange(len(tmp))\n",
        "\n",
        "  if returnFronts is True:\n",
        "    return rank, fronts\n",
        "  else:\n",
        "    return rank\n",
        "\n",
        "def rankArray(X):\n",
        "  \"\"\"Returns ranking of a list, with ties resolved by first-found first-order\n",
        "  NOTE: Sorts descending to follow numpy conventions\n",
        "  \"\"\"\n",
        "  tmp = jnp.argsort(X)\n",
        "  rank = jnp.empty_like(tmp)\n",
        "  rank[tmp] = jnp.arange(len(X))\n",
        "  return rank"
      ],
      "metadata": {
        "id": "JWpQWTbir2Tf"
      },
      "execution_count": null,
      "outputs": []
    },
    {
      "cell_type": "code",
      "source": [
        "class NEAT(NEAlgorithm):\n",
        "  def __init__(self, hyp):\n",
        "      # Whether abstract classes require adding super().__init__() ?\n",
        "      self.p       = hyp\n",
        "      self.pop     = []\n",
        "      self.species = []\n",
        "      self.innov   = []\n",
        "      self.gen     = 0\n",
        "\n",
        "  def ask(self):\n",
        "\n",
        "    \"\"\"Returns newly evolved population\"\"\"\n",
        "    if len(self.pop) == 0:\n",
        "      self.initPop()\n",
        "\n",
        "    else:\n",
        "\n",
        "      self.probMoo()\n",
        "      self.speciate()\n",
        "      self.evolvePop()\n",
        "\n",
        "    return self.pop\n",
        "\n",
        "  def tell(self,reward):\n",
        "\n",
        "    for i in range(np.shape(reward)[0]):\n",
        "      self.pop[i].fitness = reward[i]\n",
        "      self.pop[i].nConn   = self.pop[i].nConn\n",
        "\n",
        "  def initPop(self) :\n",
        "\n",
        "    ##  Create base individual\n",
        "    p = self.p # readability\n",
        "\n",
        "    # - Create Nodes -\n",
        "    nodeId = jnp.arange(0,p['ann_nInput']+ p['ann_nOutput']+1,1)\n",
        "    node = jnp.empty((3,len(nodeId)))\n",
        "    node[0,:] = nodeId\n",
        "\n",
        "    # Node types: [1:input, 2:hidden, 3:bias, 4:output]\n",
        "    node[1,0]             = 4 # Bias\n",
        "    node[1,1:p['ann_nInput']+1] = 1 # Input Nodes\n",
        "    node[1,(p['ann_nInput']+1):\\\n",
        "           (p['ann_nInput']+p['ann_nOutput']+1)]  = 2 # Output Nodes\n",
        "\n",
        "    # Node Activations\n",
        "    node[2,:] = p['ann_initAct']\n",
        "    # - Create Conns -\n",
        "    nConn = (p['ann_nInput']+1) * p['ann_nOutput']\n",
        "    ins   = jnp.arange(0,p['ann_nInput']+1,1)            # Input and Bias Ids\n",
        "    outs  = (p['ann_nInput']+1) + jnp.arange(0,p['ann_nOutput']) # Output Ids\n",
        "\n",
        "    conn = jnp.empty((5,nConn,))\n",
        "    conn[0,:] = jnp.arange(0,nConn,1)      # Connection Id\n",
        "    conn[1,:] = jnp.tile(ins, len(outs))   # Source Nodes\n",
        "    conn[2,:] = jnp.repeat(outs,len(ins) ) # Destination Nodes\n",
        "    conn[3,:] = jnp.nan                    # Weight Values\n",
        "    conn[4,:] = 1                         # Enabled?\n",
        "\n",
        "    # Create population of individuals with varied weights\n",
        "    pop = []\n",
        "    for i in range(p['popSize']):\n",
        "        newInd = Ind(conn, node)\n",
        "        newInd.conn[3,:] = (2*(jnp.random.rand(1,nConn)-0.5))*p['ann_absWCap']\n",
        "        newInd.conn[4,:] = jnp.random.rand(1,nConn) < p['prob_initEnable']\n",
        "        newInd.express()\n",
        "        newInd.birth = 0\n",
        "        pop.append(copy.deepcopy(newInd))\n",
        "    # - Create Innovation Record -\n",
        "    innov = jnp.zeros([5,nConn])\n",
        "    innov[0:3,:] = pop[0].conn[0:3,:]\n",
        "    innov[3,:] = -1\n",
        "\n",
        "    self.pop = pop\n",
        "    self.innov = innov\n",
        "\n",
        "  def probMoo(self):\n",
        "    \"\"\"Rank population according to Pareto dominance. \"\"\"\n",
        "\n",
        "    meanFit = jnp.asarray([ind.fitness for ind in self.pop])\n",
        "    nConns  = jnp.asarray([ind.nConn   for ind in self.pop])\n",
        "    nConns[nConns==0] = 1 # No connections is pareto optimal but boring...\n",
        "    objVals = jnp.c_[meanFit,1/nConns] # Maximize\n",
        "\n",
        "    # Alternate between two objectives and single objective\n",
        "    if self.p['alg_probMoo'] < jnp.random.rand():\n",
        "      rank = nsga_sort(objVals[:,[0,1]])\n",
        "\n",
        "    else: # Single objective\n",
        "      rank = rankArray(-objVals[:,0])\n",
        "\n",
        "    # Assign ranks\n",
        "    for i in range(len(self.pop)):\n",
        "      self.pop[i].rank = rank[i]"
      ],
      "metadata": {
        "id": "hMfUVLtbpCdw"
      },
      "execution_count": null,
      "outputs": []
    }
  ]
}